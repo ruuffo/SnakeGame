{
 "cells": [
  {
   "cell_type": "code",
   "execution_count": 9,
   "metadata": {},
   "outputs": [
    {
     "name": "stdout",
     "output_type": "stream",
     "text": [
      "['/usr/lib/python310.zip', '/usr/lib/python3.10', '/usr/lib/python3.10/lib-dynload', '', '/home/rfogel/projects/snakegame/venv/lib/python3.10/site-packages', '/home/rfogel/projects/snakegame']\n"
     ]
    }
   ],
   "source": [
    "import sys\n",
    "import os\n",
    "if os.path.abspath(os.path.join(os.getcwd(), '../..')) not in sys.path:\n",
    "    sys.path.append(os.path.abspath(os.path.join(os.getcwd(), '../..')))\n",
    "\n",
    "print(sys.path)\n"
   ]
  },
  {
   "cell_type": "code",
   "execution_count": 10,
   "metadata": {},
   "outputs": [],
   "source": [
    "from src.objects import gameengine\n",
    "from src.objects.actorcriticalgorithm import ActorCriticAlgorithm\n",
    "from src.objects.gameengine import GameEngine\n",
    "from src.objects.actorcritic import ActorCritic\n",
    "from src.objects.grid import Grid\n",
    "from src.objects.rabbit import Rabbit\n",
    "from src.objects.snake import Snake\n",
    "from src.utils.utils import create_rabbits\n"
   ]
  },
  {
   "cell_type": "code",
   "execution_count": 11,
   "metadata": {},
   "outputs": [],
   "source": [
    "import tensorflow as tf\n",
    "import numpy as np\n",
    "from numpy import random\n",
    "import keras\n",
    "from tqdm import tqdm\n",
    "import matplotlib.pyplot as plt\n",
    "from scipy.special import softmax\n",
    "\n",
    "\n",
    "def plot_metrics(episode_rewards, losses):\n",
    "    plt.figure(figsize=(12, 5))\n",
    "\n",
    "    plt.subplot(1, 2, 1)\n",
    "    plt.plot(episode_rewards)\n",
    "    plt.xlabel('Épisodes')\n",
    "    plt.ylabel('Récompenses Cumulées')\n",
    "    plt.title('Récompenses par Épisode')\n",
    "\n",
    "    plt.subplot(1, 2, 2)\n",
    "    plt.plot(losses)\n",
    "    plt.xlabel('Épisodes')\n",
    "    plt.ylabel('Pertes')\n",
    "    plt.title('Pertes par Épisode')\n",
    "\n",
    "    plt.tight_layout()\n",
    "    plt.show()\n",
    "\n",
    "\n",
    "def train_actor_critic(env: GameEngine,\n",
    "                       algorithm: ActorCriticAlgorithm,\n",
    "                       num_episodes: int = 1000):\n",
    "    episode_rewards = []\n",
    "    losses = []\n",
    "    for episode in tqdm(range(num_episodes),\n",
    "                        desc=\"Entrainement en cours\",\n",
    "                        unit=\"épisode\"):\n",
    "\n",
    "        env.reset(random_grid_size=False)\n",
    "        state_tensor = env.get_state_tensor()\n",
    "        done = False\n",
    "        episode_reward = 0\n",
    "        while not done:\n",
    "\n",
    "            n_rabbits = len(env.rabbits)\n",
    "\n",
    "            action_probs, _ = algorithm.model(state_tensor)\n",
    "            action_probs = action_probs[:, :n_rabbits]\n",
    "            action_probs = np.squeeze(action_probs.numpy())\n",
    "            action_probs = softmax(action_probs)\n",
    "            chosen_rabbit_index = np.random.choice(n_rabbits, p=action_probs)\n",
    "\n",
    "            next_state, reward, done = env.step(action=chosen_rabbit_index)\n",
    "            episode_reward += reward\n",
    "\n",
    "            loss = algorithm.train_step(state_tensor, chosen_rabbit_index,\n",
    "                                        reward, next_state, done)\n",
    "            state_tensor = next_state\n",
    "\n",
    "            losses.append(loss)\n",
    "            episode_rewards.append(episode_reward)\n",
    "\n",
    "            if (episode + 1) % 100 == 0:\n",
    "                avg_reward = np.mean(episode_rewards[-100:])\n",
    "                avg_loss = np.mean(losses[-100:])\n",
    "                print(\n",
    "                    f\"Épisode {episode + 1}/{num_episodes} | Récompense Moyenne : {avg_reward:.2f} | Pertes Moyennes : {avg_loss:.4f}\"\n",
    "                )\n",
    "    print(\"Entraînement terminé.\")\n",
    "    plot_metrics(episode_rewards, losses)\n"
   ]
  },
  {
   "cell_type": "code",
   "execution_count": 12,
   "metadata": {},
   "outputs": [
    {
     "ename": "KeyboardInterrupt",
     "evalue": "",
     "output_type": "error",
     "traceback": [
      "\u001b[0;31m---------------------------------------------------------------------------\u001b[0m",
      "\u001b[0;31mKeyboardInterrupt\u001b[0m                         Traceback (most recent call last)",
      "Cell \u001b[0;32mIn[12], line 11\u001b[0m\n\u001b[1;32m      7\u001b[0m width, height \u001b[38;5;241m=\u001b[39m random\u001b[38;5;241m.\u001b[39mrandint(\u001b[38;5;241m20\u001b[39m, \u001b[38;5;241m150\u001b[39m), random\u001b[38;5;241m.\u001b[39mrandint(\u001b[38;5;241m20\u001b[39m, \u001b[38;5;241m100\u001b[39m)\n\u001b[1;32m      9\u001b[0m nb_lapins \u001b[38;5;241m=\u001b[39m random\u001b[38;5;241m.\u001b[39mrandint(\u001b[38;5;241m1\u001b[39m, max_number_rabbits)\n\u001b[0;32m---> 11\u001b[0m rabbits \u001b[38;5;241m=\u001b[39m \u001b[43mcreate_rabbits\u001b[49m\u001b[43m(\u001b[49m\u001b[43mwidth\u001b[49m\u001b[38;5;241;43m=\u001b[39;49m\u001b[43mwidth\u001b[49m\u001b[43m,\u001b[49m\u001b[43m \u001b[49m\u001b[43mheight\u001b[49m\u001b[38;5;241;43m=\u001b[39;49m\u001b[43mheight\u001b[49m\u001b[43m,\u001b[49m\u001b[43m \u001b[49m\u001b[43mnb_lapins\u001b[49m\u001b[38;5;241;43m=\u001b[39;49m\u001b[43mnb_lapins\u001b[49m\u001b[43m)\u001b[49m\n\u001b[1;32m     12\u001b[0m grid \u001b[38;5;241m=\u001b[39m Grid(width\u001b[38;5;241m=\u001b[39mwidth, height\u001b[38;5;241m=\u001b[39mheight)\n\u001b[1;32m     13\u001b[0m gameengine \u001b[38;5;241m=\u001b[39m GameEngine(snake\u001b[38;5;241m=\u001b[39msnake,\n\u001b[1;32m     14\u001b[0m                         rabbits\u001b[38;5;241m=\u001b[39mrabbits,\n\u001b[1;32m     15\u001b[0m                         grid\u001b[38;5;241m=\u001b[39mgrid,\n\u001b[1;32m     16\u001b[0m                         algorithm\u001b[38;5;241m=\u001b[39malgorithm)\n",
      "File \u001b[0;32m~/projects/snakegame/src/utils/utils.py:22\u001b[0m, in \u001b[0;36mcreate_rabbits\u001b[0;34m(width, height, nb_lapins)\u001b[0m\n\u001b[1;32m     20\u001b[0m rabbits_set \u001b[38;5;241m=\u001b[39m \u001b[38;5;28mset\u001b[39m()\n\u001b[1;32m     21\u001b[0m \u001b[38;5;28;01mwhile\u001b[39;00m \u001b[38;5;28mlen\u001b[39m(rabbits_set) \u001b[38;5;241m<\u001b[39m nb_lapins:\n\u001b[0;32m---> 22\u001b[0m     rabbit \u001b[38;5;241m=\u001b[39m Rabbit(random\u001b[38;5;241m.\u001b[39mrandrange(width), \u001b[43mrandom\u001b[49m\u001b[38;5;241;43m.\u001b[39;49m\u001b[43mrandrange\u001b[49m\u001b[43m(\u001b[49m\u001b[43mheight\u001b[49m\u001b[43m)\u001b[49m)\n\u001b[1;32m     23\u001b[0m     rabbits_set\u001b[38;5;241m.\u001b[39madd(rabbit)\n\u001b[1;32m     24\u001b[0m \u001b[38;5;28;01mreturn\u001b[39;00m \u001b[38;5;28mlist\u001b[39m(rabbits_set)\n",
      "File \u001b[0;32m/usr/lib/python3.10/random.py:320\u001b[0m, in \u001b[0;36mRandom.randrange\u001b[0;34m(self, start, stop, step)\u001b[0m\n\u001b[1;32m    318\u001b[0m         \u001b[38;5;28;01mraise\u001b[39;00m \u001b[38;5;167;01mTypeError\u001b[39;00m(\u001b[38;5;124m'\u001b[39m\u001b[38;5;124mMissing a non-None stop argument\u001b[39m\u001b[38;5;124m'\u001b[39m)\n\u001b[1;32m    319\u001b[0m     \u001b[38;5;28;01mif\u001b[39;00m istart \u001b[38;5;241m>\u001b[39m \u001b[38;5;241m0\u001b[39m:\n\u001b[0;32m--> 320\u001b[0m         \u001b[38;5;28;01mreturn\u001b[39;00m \u001b[38;5;28;43mself\u001b[39;49m\u001b[38;5;241;43m.\u001b[39;49m\u001b[43m_randbelow\u001b[49m\u001b[43m(\u001b[49m\u001b[43mistart\u001b[49m\u001b[43m)\u001b[49m\n\u001b[1;32m    321\u001b[0m     \u001b[38;5;28;01mraise\u001b[39;00m \u001b[38;5;167;01mValueError\u001b[39;00m(\u001b[38;5;124m\"\u001b[39m\u001b[38;5;124mempty range for randrange()\u001b[39m\u001b[38;5;124m\"\u001b[39m)\n\u001b[1;32m    323\u001b[0m \u001b[38;5;66;03m# stop argument supplied.\u001b[39;00m\n",
      "File \u001b[0;32m/usr/lib/python3.10/random.py:246\u001b[0m, in \u001b[0;36mRandom._randbelow_with_getrandbits\u001b[0;34m(self, n)\u001b[0m\n\u001b[1;32m    244\u001b[0m getrandbits \u001b[38;5;241m=\u001b[39m \u001b[38;5;28mself\u001b[39m\u001b[38;5;241m.\u001b[39mgetrandbits\n\u001b[1;32m    245\u001b[0m k \u001b[38;5;241m=\u001b[39m n\u001b[38;5;241m.\u001b[39mbit_length()  \u001b[38;5;66;03m# don't use (n-1) here because n can be 1\u001b[39;00m\n\u001b[0;32m--> 246\u001b[0m r \u001b[38;5;241m=\u001b[39m \u001b[43mgetrandbits\u001b[49m\u001b[43m(\u001b[49m\u001b[43mk\u001b[49m\u001b[43m)\u001b[49m  \u001b[38;5;66;03m# 0 <= r < 2**k\u001b[39;00m\n\u001b[1;32m    247\u001b[0m \u001b[38;5;28;01mwhile\u001b[39;00m r \u001b[38;5;241m>\u001b[39m\u001b[38;5;241m=\u001b[39m n:\n\u001b[1;32m    248\u001b[0m     r \u001b[38;5;241m=\u001b[39m getrandbits(k)\n",
      "\u001b[0;31mKeyboardInterrupt\u001b[0m: "
     ]
    }
   ],
   "source": [
    "# Train model from scratch\n",
    "max_number_rabbits = int(150 * 100 * 0.3)\n",
    "\n",
    "snake = Snake()\n",
    "algorithm = ActorCriticAlgorithm(ActorCritic(max_number_rabbits))\n",
    "\n",
    "width, height = random.randint(20, 150), random.randint(20, 100)\n",
    "\n",
    "nb_lapins = random.randint(1, max_number_rabbits)\n",
    "\n",
    "rabbits = create_rabbits(width=width, height=height, nb_lapins=nb_lapins)\n",
    "grid = Grid(width=width, height=height)\n",
    "gameengine = GameEngine(snake=snake,\n",
    "                        rabbits=rabbits,\n",
    "                        grid=grid,\n",
    "                        algorithm=algorithm)\n",
    "\n",
    "#train\n",
    "train_actor_critic(env=gameengine, algorithm=algorithm)"
   ]
  },
  {
   "cell_type": "code",
   "execution_count": 9,
   "metadata": {},
   "outputs": [],
   "source": [
    "keras.saving.save_model(algorithm.model, \"model.keras\")"
   ]
  },
  {
   "cell_type": "code",
   "execution_count": null,
   "metadata": {},
   "outputs": [],
   "source": [
    "# Train from existing model\n",
    "model = keras.saving.load_model(\"model.keras\")"
   ]
  }
 ],
 "metadata": {
  "kernelspec": {
   "display_name": "venv",
   "language": "python",
   "name": "python3"
  },
  "language_info": {
   "codemirror_mode": {
    "name": "ipython",
    "version": 3
   },
   "file_extension": ".py",
   "mimetype": "text/x-python",
   "name": "python",
   "nbconvert_exporter": "python",
   "pygments_lexer": "ipython3",
   "version": "3.10.12"
  }
 },
 "nbformat": 4,
 "nbformat_minor": 2
}
